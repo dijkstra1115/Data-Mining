{
 "cells": [
  {
   "cell_type": "code",
   "execution_count": null,
   "metadata": {
    "colab": {
     "base_uri": "https://localhost:8080/"
    },
    "id": "zxKbqvh3oRU2",
    "outputId": "7c8324f9-c763-4a26-9d5b-eccc3e0423df"
   },
   "outputs": [
    {
     "name": "stdout",
     "output_type": "stream",
     "text": [
      "Collecting xlrd==1.2.0\n",
      "  Downloading xlrd-1.2.0-py2.py3-none-any.whl (103 kB)\n",
      "\u001b[?25l\r",
      "\u001b[K     |███▏                            | 10 kB 22.4 MB/s eta 0:00:01\r",
      "\u001b[K     |██████▍                         | 20 kB 11.5 MB/s eta 0:00:01\r",
      "\u001b[K     |█████████▌                      | 30 kB 9.5 MB/s eta 0:00:01\r",
      "\u001b[K     |████████████▊                   | 40 kB 8.7 MB/s eta 0:00:01\r",
      "\u001b[K     |███████████████▉                | 51 kB 4.4 MB/s eta 0:00:01\r",
      "\u001b[K     |███████████████████             | 61 kB 5.2 MB/s eta 0:00:01\r",
      "\u001b[K     |██████████████████████▏         | 71 kB 5.7 MB/s eta 0:00:01\r",
      "\u001b[K     |█████████████████████████▍      | 81 kB 5.9 MB/s eta 0:00:01\r",
      "\u001b[K     |████████████████████████████▋   | 92 kB 6.5 MB/s eta 0:00:01\r",
      "\u001b[K     |███████████████████████████████▊| 102 kB 5.5 MB/s eta 0:00:01\r",
      "\u001b[K     |████████████████████████████████| 103 kB 5.5 MB/s \n",
      "\u001b[?25hInstalling collected packages: xlrd\n",
      "  Attempting uninstall: xlrd\n",
      "    Found existing installation: xlrd 1.1.0\n",
      "    Uninstalling xlrd-1.1.0:\n",
      "      Successfully uninstalled xlrd-1.1.0\n",
      "Successfully installed xlrd-1.2.0\n"
     ]
    }
   ],
   "source": [
    "!pip install xlrd==1.2.0"
   ]
  },
  {
   "cell_type": "code",
   "execution_count": null,
   "metadata": {
    "colab": {
     "base_uri": "https://localhost:8080/"
    },
    "id": "eDOy22wGMiZG",
    "outputId": "053a8075-e7dd-4e4f-c84d-5755ee1c3663"
   },
   "outputs": [
    {
     "data": {
      "text/plain": [
       "131072"
      ]
     },
     "execution_count": 1,
     "metadata": {},
     "output_type": "execute_result"
    }
   ],
   "source": [
    "import datetime\n",
    "import pandas as pd\n",
    "import requests\n",
    "import os\n",
    "import zipfile\n",
    "import time\n",
    "import sys\n",
    "import csv\n",
    "import requests\n",
    "\n",
    "csv.field_size_limit(sys.maxsize)"
   ]
  },
  {
   "cell_type": "code",
   "execution_count": null,
   "metadata": {
    "colab": {
     "base_uri": "https://localhost:8080/"
    },
    "id": "kg7AcpJFPy2n",
    "outputId": "cf25fabe-927f-4bf9-9532-4264649122c9"
   },
   "outputs": [
    {
     "name": "stdout",
     "output_type": "stream",
     "text": [
      "Mounted at /content/drive/\n"
     ]
    }
   ],
   "source": [
    "from google.colab import drive\n",
    "# drive.mount._DEBUG = True\n",
    "drive.mount('/content/drive/')"
   ]
  },
  {
   "cell_type": "code",
   "execution_count": null,
   "metadata": {
    "colab": {
     "base_uri": "https://localhost:8080/"
    },
    "id": "4uXTxRbVP2c3",
    "outputId": "6ab22afc-3319-43a0-ce2d-09af6f4d4e6f"
   },
   "outputs": [
    {
     "name": "stdout",
     "output_type": "stream",
     "text": [
      "/content/drive/MyDrive/big_data_project/房屋相關資料集\n"
     ]
    }
   ],
   "source": [
    "cd drive/MyDrive/big_data_project/房屋相關資料集"
   ]
  },
  {
   "cell_type": "markdown",
   "metadata": {
    "id": "f-arY-OnNX-r"
   },
   "source": [
    "## 房屋相關資料集"
   ]
  },
  {
   "cell_type": "code",
   "execution_count": null,
   "metadata": {
    "id": "oZbEvg_VM17v"
   },
   "outputs": [],
   "source": [
    "def real_estate_crawler(year, season):\n",
    "    if year > 1000:\n",
    "        year -= 1911\n",
    "\n",
    "    # download real estate zip file\n",
    "    res = requests.get(\"https://plvr.land.moi.gov.tw//DownloadSeason?season=\"+str(year)+\"S\"+str(season)+\"&type=zip&fileName=lvr_landcsv.zip\")\n",
    "\n",
    "    if len(res.content) < 1000:\n",
    "      print('no data')\n",
    "    else:\n",
    "\n",
    "      # save content to file\n",
    "      fname = str(year)+str(season)+'.zip'\n",
    "      # open(fname, 'wb').write(res.content)\n",
    "\n",
    "      # make additional folder for files to extract\n",
    "      folder = 'real_estate' + str(year) + str(season)\n",
    "      if not os.path.isdir(folder):\n",
    "          os.mkdir(folder)\n",
    "\n",
    "      # extract files to the folder\n",
    "      with zipfile.ZipFile(fname, 'r') as zip_ref:\n",
    "          zip_ref.extractall(folder)\n",
    "\n",
    "    time.sleep(10)"
   ]
  },
  {
   "cell_type": "markdown",
   "metadata": {
    "id": "sFJAUX9XO9p1"
   },
   "source": [
    "## 爬取近5年實價登錄"
   ]
  },
  {
   "cell_type": "code",
   "execution_count": null,
   "metadata": {
    "colab": {
     "base_uri": "https://localhost:8080/"
    },
    "id": "WYfb3fTUO9Pd",
    "outputId": "0c2cfae2-ff1d-42dd-f893-d172b5e120db"
   },
   "outputs": [
    {
     "name": "stdout",
     "output_type": "stream",
     "text": [
      "2022 1\n"
     ]
    }
   ],
   "source": [
    "for year in range(2017, 2023):\n",
    "    for season in range(1,5):\n",
    "        print(year, season)\n",
    "        real_estate_crawler(year, season)"
   ]
  },
  {
   "cell_type": "markdown",
   "metadata": {
    "id": "eCPEJV5wJctQ"
   },
   "source": [
    "## 處理手動增加之非季單位資料"
   ]
  },
  {
   "cell_type": "code",
   "execution_count": null,
   "metadata": {
    "id": "50GiXN-JGbyq"
   },
   "outputs": [],
   "source": [
    "dirs = [d for d in os.listdir() if d[-12:-4] == 'opendata']\n",
    "for fname in dirs:\n",
    "  folder = 'real_estate' + fname[:8]\n",
    "  if not os.path.isdir(folder):\n",
    "    os.mkdir(folder)\n",
    "  with zipfile.ZipFile(fname, 'r') as zip_ref:\n",
    "    zip_ref.extractall(folder)"
   ]
  },
  {
   "cell_type": "markdown",
   "metadata": {
    "id": "b50p70c6Q92i"
   },
   "source": [
    "# 資料前處理"
   ]
  },
  {
   "cell_type": "code",
   "execution_count": null,
   "metadata": {
    "id": "4imvlduKb_yz"
   },
   "outputs": [],
   "source": [
    "# 七都代碼 (加入新竹)\n",
    "seven_capitals_dict = {'a':'台北市', 'b':'台中市', 'd':'台南市', 'e':'高雄市', 'f':'新北市', 'h':'桃園市', 'o':'新竹市', 'j':'新竹縣'}\n",
    "\n",
    "# 歷年資料夾\n",
    "dirs = [d for d in os.listdir() if d[:4] == 'real']"
   ]
  },
  {
   "cell_type": "markdown",
   "metadata": {
    "id": "_KBQGL9Pb2p6"
   },
   "source": [
    "## x_lvr_land_a：房屋買賣交易"
   ]
  },
  {
   "cell_type": "code",
   "execution_count": null,
   "metadata": {
    "colab": {
     "base_uri": "https://localhost:8080/"
    },
    "id": "nHZnQOK8c6fk",
    "outputId": "30ff4749-ba6b-4fc0-9caf-e0a5ec1bdc01"
   },
   "outputs": [
    {
     "name": "stderr",
     "output_type": "stream",
     "text": [
      "/usr/local/lib/python3.7/dist-packages/IPython/core/interactiveshell.py:2882: FutureWarning: The error_bad_lines argument has been deprecated and will be removed in a future version.\n",
      "\n",
      "\n",
      "  exec(code_obj, self.user_global_ns, self.user_ns)\n"
     ]
    },
    {
     "name": "stdout",
     "output_type": "stream",
     "text": [
      "原始資料: (1450933, 34)\n",
      "過濾小於2017年以及不存在的時間後: (1349936, 34)\n",
      "篩選資料欄位後: (1349936, 22)\n",
      "篩選建物型態後: (1026447, 22)\n",
      "篩選交易標的後: (1021059, 22)\n"
     ]
    }
   ],
   "source": [
    "a_dfs = list()\n",
    "for d in dirs:\n",
    "  for k,v in seven_capitals_dict.items():\n",
    "    file_name = str(k).strip() + '_lvr_land_a.csv'\n",
    "    if file_name not in os.listdir(d):\n",
    "      continue\n",
    "    a_df = pd.read_csv(os.path.join(d, file_name), index_col=False, engine='python', error_bad_lines=False)\n",
    "\n",
    "    # 增加縣市資訊\n",
    "    a_df['縣市'] = str(v).strip() \n",
    "\n",
    "    a_dfs.append(a_df.iloc[1:])\n",
    "a_df = pd.concat(a_dfs, sort=True)\n",
    "a_df = a_df.drop_duplicates()\n",
    "\n",
    "# 格式化日期資訊\n",
    "date_list = list()\n",
    "exceptions_list = list()\n",
    "for date in a_df['交易年月日']:\n",
    "  format_date = str(int(date[:len(date)-4]) + 1911) + '-' + date[len(date)-4:len(date)-2] + '-' + date[len(date)-2:len(date)]\n",
    "  # 過濾年份小於2017年且月份或日期為零的資料\n",
    "  if date[len(date)-4:len(date)-2] == '00' or date[len(date)-2:len(date)] == '00' or int(date[:len(date)-4]) < 106:\n",
    "    exceptions_list.append(format_date)\n",
    "  date_list.append(format_date)\n",
    "a_df['交易年月日'] = date_list\n",
    "\n",
    "print(f'原始資料: {a_df.shape}')\n",
    "# 過濾不存在的時間資訊\n",
    "a_df = a_df[~a_df['交易年月日'].isin(exceptions_list)]\n",
    "pd.to_datetime(a_df['交易年月日'])\n",
    "# 過濾超過目前時間的資訊\n",
    "a_df = a_df[a_df['交易年月日'] <= str(datetime.date.today())]\n",
    "print(f'過濾小於2017年以及不存在的時間後: {a_df.shape}')\n",
    "# 篩選資料欄位\n",
    "a_df = a_df[['交易標的', '主建物面積','主要用途', '交易年月日', '單價元平方公尺','土地移轉總面積平方公尺', '建物型態', '建物現況格局-廳', '建物現況格局-房', '建物現況格局-衛','建物移轉總面積平方公尺', '建築完成年月', '縣市', '總價元', '總樓層數', '車位移轉總面積(平方公尺)', '車位總價元', '車位類別','鄉鎮市區','附屬建物面積', '陽台面積', '電梯']]\n",
    "print(f'篩選資料欄位後: {a_df.shape}')\n",
    "# 篩選建物型態\n",
    "building_type = ['華廈(10層含以下有電梯)', '住宅大樓(11層含以上有電梯)', '公寓(5樓含以下無電梯)', '套房(1房1廳1衛)', '透天厝']\n",
    "building_list = list()\n",
    "for t in building_type:\n",
    "  building_list.append(a_df[a_df['建物型態']==t])\n",
    "a_df = pd.concat(building_list)\n",
    "print(f'篩選建物型態後: {a_df.shape}')\n",
    "# 篩選交易標的 (過濾純建物, 車位以及土地)\n",
    "trans_object = ['房地(土地+建物)', '房地(土地+建物)+車位']\n",
    "tran_list = list()\n",
    "for o in trans_object:\n",
    "  tran_list.append(a_df[a_df['交易標的']==o])\n",
    "a_df = pd.concat(tran_list)\n",
    "print(f'篩選交易標的後: {a_df.shape}')"
   ]
  },
  {
   "cell_type": "markdown",
   "metadata": {
    "id": "cRxnCe8PTmOM"
   },
   "source": [
    "# Preprocessing"
   ]
  },
  {
   "cell_type": "code",
   "execution_count": null,
   "metadata": {
    "colab": {
     "base_uri": "https://localhost:8080/"
    },
    "id": "hZbOjREVTls9",
    "outputId": "b438a6a5-3c5e-4b12-cf51-ccb4c7625399"
   },
   "outputs": [
    {
     "data": {
      "text/plain": [
       "array(['有', '無', '不確定'], dtype=object)"
      ]
     },
     "execution_count": 31,
     "metadata": {},
     "output_type": "execute_result"
    }
   ],
   "source": [
    "# 將電梯欄位為 \"NaN\" 之資料透過建物型態判斷是否有電梯 (例如: 電梯欄位為 \"NaN\" 且建物型態為 \"華廈(10層含以下有電梯)\" 將其視為有電梯進行補值)\n",
    "# 若建物型態為 \"套房(1房1廳1衛)\" 及 \"透天厝\" 則先不進行補值\n",
    "\n",
    "include_elevator = ['華廈(10層含以下有電梯)', '住宅大樓(11層含以上有電梯)']\n",
    "not_include_elevator = ['公寓(5樓含以下無電梯)']\n",
    "exception = ['套房(1房1廳1衛)', '透天厝']\n",
    "elevator_list = list()\n",
    "for include in include_elevator: # 包含電梯\n",
    "  elevator_list.append(a_df[~(a_df['電梯'].isnull()==True) & (a_df['建物型態']==include)]) # 非 \"NaN\" 資料\n",
    "  elevator_list.append(a_df[(a_df['電梯'].isnull()==True) & (a_df['建物型態']==include)].assign(電梯='有')) # 將 \"NaN\" 資料進行補值\n",
    "\n",
    "for not_include in not_include_elevator: # 不包含電梯\n",
    "  elevator_list.append(a_df[~(a_df['電梯'].isnull()==True) & (a_df['建物型態']==not_include)]) # 非 \"NaN\" 資料\n",
    "  elevator_list.append(a_df[(a_df['電梯'].isnull()==True) & (a_df['建物型態']==not_include)].assign(電梯='無')) # 將 \"NaN\" 資料進行補值\n",
    "\n",
    "for e in exception: # 不確定\n",
    "  elevator_list.append(a_df[~(a_df['電梯'].isnull()==True) & (a_df['建物型態']==e)]) # 非 \"NaN\" 資料\n",
    "  elevator_list.append(a_df[(a_df['電梯'].isnull()==True) & (a_df['建物型態']==e)].assign(電梯='不確定')) # 將 \"NaN\" 資料進行補值\n",
    "\n",
    "a_df = pd.concat(elevator_list)\n",
    "a_df = a_df.reset_index(drop=True)\n",
    "a_df['電梯'].unique()"
   ]
  },
  {
   "cell_type": "code",
   "execution_count": null,
   "metadata": {
    "colab": {
     "base_uri": "https://localhost:8080/"
    },
    "id": "DuBgzAg7Cx_7",
    "outputId": "0de5a680-9771-4bdf-edc9-fcabfb5b9504"
   },
   "outputs": [
    {
     "data": {
      "text/plain": [
       "array(['有', '無'], dtype=object)"
      ]
     },
     "execution_count": 32,
     "metadata": {},
     "output_type": "execute_result"
    }
   ],
   "source": [
    "# 透過交易標的判斷是否有車位 (例如: \"房地(土地+建物)+車位\" 將其視為有車位)\n",
    "# 若交易標的為 \"房地(土地+建物)\" 則視為無車位\n",
    "\n",
    "a_df['車位'] = None\n",
    "include_parking = ['房地(土地+建物)+車位']\n",
    "not_include_parking = ['房地(土地+建物)']\n",
    "parking_list = list()\n",
    "\n",
    "for include in include_parking: # 包含車位\n",
    "  parking_list.append(a_df[(a_df['車位'].isnull()==True) & (a_df['交易標的']==include)].assign(車位='有')) # 將 \"NaN\" 資料進行補值\n",
    "\n",
    "for not_include in not_include_parking: # 不包含車位\n",
    "  parking_list.append(a_df[(a_df['車位'].isnull()==True) & (a_df['交易標的']==not_include)].assign(車位='無')) # 將 \"NaN\" 資料進行補值\n",
    "\n",
    "a_df = pd.concat(parking_list)\n",
    "a_df = a_df.reset_index(drop=True)\n",
    "a_df['車位'].unique()"
   ]
  },
  {
   "cell_type": "code",
   "execution_count": null,
   "metadata": {
    "id": "a3QDbKTnRCZx"
   },
   "outputs": [],
   "source": [
    "# 排除 duplicate 錯誤\n",
    "for i in a_df:\n",
    "  a_df[i] = a_df[i].astype(str)"
   ]
  },
  {
   "cell_type": "code",
   "execution_count": null,
   "metadata": {
    "id": "m9G9pjbkHN3z"
   },
   "outputs": [],
   "source": [
    "# 過濾總價元為0的交易\n",
    "a_df = a_df[a_df['總價元']!='0']\n",
    "# 過濾單價元平方公尺為0的交易\n",
    "a_df = a_df[a_df['單價元平方公尺']!='0']"
   ]
  },
  {
   "cell_type": "code",
   "execution_count": null,
   "metadata": {
    "colab": {
     "base_uri": "https://localhost:8080/"
    },
    "id": "YJ4nH1Po37Lv",
    "outputId": "d1901f2f-b69e-4b43-db89-5df096b6f5c0"
   },
   "outputs": [
    {
     "data": {
      "text/plain": [
       "(1009902, 23)"
      ]
     },
     "execution_count": 35,
     "metadata": {},
     "output_type": "execute_result"
    }
   ],
   "source": [
    "a_df = a_df.drop_duplicates(keep=False)\n",
    "a_df = a_df.reset_index(drop=True)\n",
    "a_df.shape"
   ]
  },
  {
   "cell_type": "code",
   "execution_count": null,
   "metadata": {
    "colab": {
     "base_uri": "https://localhost:8080/"
    },
    "id": "AFYUcrg22vxM",
    "outputId": "f4dcb9f0-28a1-4267-fb0d-e5d2ab3bf902"
   },
   "outputs": [
    {
     "data": {
      "text/plain": [
       "新北市    227725\n",
       "台中市    182846\n",
       "桃園市    165908\n",
       "高雄市    161979\n",
       "台北市     97632\n",
       "台南市     95892\n",
       "新竹縣     44674\n",
       "新竹市     33246\n",
       "Name: 縣市, dtype: int64"
      ]
     },
     "execution_count": 36,
     "metadata": {},
     "output_type": "execute_result"
    }
   ],
   "source": [
    "a_df['縣市'].value_counts()"
   ]
  },
  {
   "cell_type": "code",
   "execution_count": null,
   "metadata": {
    "id": "OksZ1zdK-dXA"
   },
   "outputs": [],
   "source": [
    "a_df.to_csv('2017_to_present_七都房屋買賣交易.csv', index=False)"
   ]
  },
  {
   "cell_type": "markdown",
   "metadata": {
    "id": "U8cfgtHAmeGI"
   },
   "source": [
    "## 人口相關資料集"
   ]
  },
  {
   "cell_type": "code",
   "execution_count": null,
   "metadata": {
    "colab": {
     "base_uri": "https://localhost:8080/"
    },
    "id": "sZkqfSadnvre",
    "outputId": "7384726b-aef7-4beb-8b95-372104a20f4d"
   },
   "outputs": [
    {
     "name": "stdout",
     "output_type": "stream",
     "text": [
      "/content/drive/MyDrive/big_data_project/人口相關資料集\n"
     ]
    }
   ],
   "source": [
    "cd ../人口相關資料集"
   ]
  },
  {
   "cell_type": "code",
   "execution_count": null,
   "metadata": {
    "colab": {
     "base_uri": "https://localhost:8080/"
    },
    "id": "Ri3wFLO9mfMK",
    "outputId": "e7290d29-df1a-495f-92b2-35d4d3287c5b"
   },
   "outputs": [
    {
     "name": "stdout",
     "output_type": "stream",
     "text": [
      "Processed files: m1s2-11100.xls\n"
     ]
    },
    {
     "name": "stderr",
     "output_type": "stream",
     "text": [
      "/usr/local/lib/python3.7/dist-packages/ipykernel_launcher.py:33: SettingWithCopyWarning: \n",
      "A value is trying to be set on a copy of a slice from a DataFrame.\n",
      "Try using .loc[row_indexer,col_indexer] = value instead\n",
      "\n",
      "See the caveats in the documentation: https://pandas.pydata.org/pandas-docs/stable/user_guide/indexing.html#returning-a-view-versus-a-copy\n",
      "/usr/local/lib/python3.7/dist-packages/ipykernel_launcher.py:41: SettingWithCopyWarning: \n",
      "A value is trying to be set on a copy of a slice from a DataFrame.\n",
      "Try using .loc[row_indexer,col_indexer] = value instead\n",
      "\n",
      "See the caveats in the documentation: https://pandas.pydata.org/pandas-docs/stable/user_guide/indexing.html#returning-a-view-versus-a-copy\n",
      "/usr/local/lib/python3.7/dist-packages/ipykernel_launcher.py:44: SettingWithCopyWarning: \n",
      "A value is trying to be set on a copy of a slice from a DataFrame.\n",
      "Try using .loc[row_indexer,col_indexer] = value instead\n",
      "\n",
      "See the caveats in the documentation: https://pandas.pydata.org/pandas-docs/stable/user_guide/indexing.html#returning-a-view-versus-a-copy\n",
      "/usr/local/lib/python3.7/dist-packages/ipykernel_launcher.py:37: SettingWithCopyWarning: \n",
      "A value is trying to be set on a copy of a slice from a DataFrame.\n",
      "Try using .loc[row_indexer,col_indexer] = value instead\n",
      "\n",
      "See the caveats in the documentation: https://pandas.pydata.org/pandas-docs/stable/user_guide/indexing.html#returning-a-view-versus-a-copy\n",
      "/usr/local/lib/python3.7/dist-packages/ipykernel_launcher.py:52: SettingWithCopyWarning: \n",
      "A value is trying to be set on a copy of a slice from a DataFrame.\n",
      "Try using .loc[row_indexer,col_indexer] = value instead\n",
      "\n",
      "See the caveats in the documentation: https://pandas.pydata.org/pandas-docs/stable/user_guide/indexing.html#returning-a-view-versus-a-copy\n"
     ]
    },
    {
     "name": "stdout",
     "output_type": "stream",
     "text": [
      "Processed files: m1s2-10600.xls\n",
      "Processed files: m1s2-10700.xls\n",
      "Processed files: m1s2-10800.xls\n",
      "Processed files: m1s2-10900.xls\n",
      "Processed files: m1s2-11000.xls\n"
     ]
    }
   ],
   "source": [
    "population_list = list()\n",
    "seven_capitals_list = ['臺 北 市', '臺 中 市', '臺 南 市', '高 雄 市', '新 北 市', '桃 園 市', '新 竹 市', '新 竹 縣']\n",
    "dirs = [d for d in os.listdir() if d[:4] == 'm1s2']\n",
    "for dir in dirs:\n",
    "  print(f'Processed files: {dir}')\n",
    "  if dir[5:8] == '111':\n",
    "    month = 3 # 111 年僅到 3月份\n",
    "  else:\n",
    "    month = 12\n",
    "  for i in range(month):\n",
    "    if i+1 < 10:\n",
    "      sheet = '0' + str(i+1)\n",
    "    else:\n",
    "      sheet = str(i+1)\n",
    "    workbook = pd.read_excel(dir, header=None, sheet_name=sheet)\n",
    "\n",
    "    seven_capitals_indexing = dict()\n",
    "    for capital in seven_capitals_list:\n",
    "      process_captial = capital.replace(' ', '').strip()\n",
    "      seven_capitals_indexing[capital] = []\n",
    "      index = workbook[workbook[0]==capital].index.values[0]\n",
    "      seven_capitals_indexing[capital].append(index-1)\n",
    "      seven_capitals_indexing[capital].append(index)\n",
    "      seven_capitals_indexing[capital].append(index+1)\n",
    "    seven_capitals_indexing\n",
    "\n",
    "    # 取標題及副標題\n",
    "    title = workbook[3:4]\n",
    "    subtitle = workbook[2:3]\n",
    "    count = 5\n",
    "    for i in range(title.shape[1]):\n",
    "      if i < 3:\n",
    "        title[i] = str(subtitle[i].values[0]).replace('\\u3000', '').replace(' ', '').strip() \n",
    "      else:\n",
    "        count += 1\n",
    "        if i == title.shape[1]-1:\n",
    "          title[i] = subtitle[i].values\n",
    "          break\n",
    "        if count == 6:\n",
    "          tks = str(subtitle[i].values[0]).replace('\\u3000', '').replace(' ', '').strip().split('～')\n",
    "          title[i] = str(int(tks[0])) + '~' + str(int(tks[1]))\n",
    "          count = 0\n",
    "        else:\n",
    "          title[i] = title[i].astype(int)\n",
    "    columns_name = title[:].values[0].tolist()\n",
    "\n",
    "    # 提取七都人口資料\n",
    "    seven_capitals_population_list = list()\n",
    "    for k, v in seven_capitals_indexing.items():\n",
    "      for index in v:\n",
    "        population = workbook[index:index+1]\n",
    "        population[0] = k.replace(' ', '').strip()\n",
    "        seven_capitals_population_list.append(population)\n",
    "    seven_capitals_population_df = pd.concat(seven_capitals_population_list)\n",
    "    seven_capitals_population_df.columns = columns_name\n",
    "    seven_capitals_population_df = seven_capitals_population_df.reset_index(drop=True)\n",
    "    \n",
    "    # 加入日期資訊\n",
    "    format_date = str(int(dir[5:8]) + 1911) + '-' + sheet\n",
    "    seven_capitals_population_df['日期'] = format_date\n",
    "    population_list.append(seven_capitals_population_df)\n",
    "seven_capitals_population_df = pd.concat(population_list)"
   ]
  },
  {
   "cell_type": "code",
   "execution_count": null,
   "metadata": {
    "id": "elHhTA0H4Ky2"
   },
   "outputs": [],
   "source": [
    "seven_capitals_population_df.to_csv('2017_to_present_七都每月年齡與性別人口數量.csv', index=False)"
   ]
  },
  {
   "cell_type": "markdown",
   "metadata": {
    "id": "BY7lDs-bBJCi"
   },
   "source": [
    "## COVID-19相關資料集"
   ]
  },
  {
   "cell_type": "code",
   "execution_count": null,
   "metadata": {
    "colab": {
     "base_uri": "https://localhost:8080/"
    },
    "id": "B5Fv4seDMFAk",
    "outputId": "bc60f73e-fff8-4795-970e-190824da1b21"
   },
   "outputs": [
    {
     "name": "stdout",
     "output_type": "stream",
     "text": [
      "/content/drive/MyDrive/big_data_project/COVID-19相關資料集\n"
     ]
    }
   ],
   "source": [
    "cd ../COVID-19相關資料集"
   ]
  },
  {
   "cell_type": "code",
   "execution_count": null,
   "metadata": {
    "id": "hwio_rzvFi5J"
   },
   "outputs": [],
   "source": [
    "covid_19_indexing = {\"id\":\"ID\",\"a01\":\"iso_code\",\"a02\":\"洲名\",\"a03\":\"國家\",\"a04\":\"日期\",\"a05\":\"總確診數\",\"a06\":\"新增確診數\",\"a07\":\"七天移動平均新增確診數\",\"a08\":\"總死亡數\",\"a09\":\"新增死亡數\",\"a10\":\"七天移動平均新增死亡數\",\"a11\":\"每百萬人確診數\",\"a12\":\"每百萬人死亡數\",\"a13\":\"傳染率\",\"a14\":\"新增檢驗件數\",\"a15\":\"總檢驗件數\",\"a16\":\"每千人檢驗件數\",\"a17\":\"七天移動平均新增檢驗件數\",\"a18\":\"陽性率\",\"a19\":\"每確診案例相對檢驗數量\",\"a20\":\"疫苗總接種總劑數\",\"a21\":\"疫苗總接種人數\",\"a22\":\"疫苗新增接種劑數\",\"a23\":\"七天移動平均疫苗新增接種劑數\",\"a24\":\"每百人接種疫苗劑數\",\"a25\":\"每百人接種疫苗人數\",\"a26\":\"疫情控管指數\",\"a27\":\"總人口數\",\"a28\":\"中位數年紀\",\"a29\":\"70歲以上人口比例\",\"a30\":\"平均壽命\",\"a31\":\"解除隔離數\",\"a32\":\"解封指數\"}\n",
    "r = requests.get('https://covid-19.nchc.org.tw/api/covid19?CK=covid-19@nchc.org.tw&querydata=4001&limited=TWN')\n",
    "covid_19 = r.json()"
   ]
  },
  {
   "cell_type": "code",
   "execution_count": null,
   "metadata": {
    "id": "GKH7aUauIKar"
   },
   "outputs": [],
   "source": [
    "# 將 NCHC 之 COVID-19 資料集轉換為 Dataframe\n",
    "covid_19_dict = dict()\n",
    "for i in range(len(covid_19)):\n",
    "  for k,v in covid_19_indexing.items():\n",
    "    if v not in covid_19_dict.keys():\n",
    "      covid_19_dict[v] = list()\n",
    "    covid_19_dict[v].append(covid_19[i][k])\n",
    "covid_19_df = pd.DataFrame()\n",
    "for k,v in covid_19_dict.items():\n",
    "  covid_19_df[k] = v"
   ]
  },
  {
   "cell_type": "code",
   "execution_count": null,
   "metadata": {
    "id": "Mt_k1BzmGj04"
   },
   "outputs": [],
   "source": [
    "covid_19_df.to_csv('COVID-19台灣疫情報表.csv', index=False)"
   ]
  },
  {
   "cell_type": "code",
   "execution_count": null,
   "metadata": {
    "id": "cXbPa0ZEMYO1"
   },
   "outputs": [],
   "source": []
  }
 ],
 "metadata": {
  "colab": {
   "collapsed_sections": [
    "64Dzjvknb5H7",
    "YwnmPAFRb74S"
   ],
   "name": "big_data_project.ipynb",
   "provenance": []
  },
  "kernelspec": {
   "display_name": "Python 3 (ipykernel)",
   "language": "python",
   "name": "python3"
  },
  "language_info": {
   "codemirror_mode": {
    "name": "ipython",
    "version": 3
   },
   "file_extension": ".py",
   "mimetype": "text/x-python",
   "name": "python",
   "nbconvert_exporter": "python",
   "pygments_lexer": "ipython3",
   "version": "3.9.7"
  }
 },
 "nbformat": 4,
 "nbformat_minor": 1
}
